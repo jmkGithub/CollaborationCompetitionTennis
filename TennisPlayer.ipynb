{
 "cells": [
  {
   "cell_type": "markdown",
   "metadata": {},
   "source": [
    "# Collaboration and Competition\n",
    "\n",
    "---\n",
    "\n",
    "\n",
    "\n",
    "### 1. Start the Environment\n",
    "\n",
    "Start the Environment and import necessary packages.\n",
    "- **Windows** (x86_64): `\"path/to/Tennis_Windows_x86_64/Tennis.exe\"`"
   ]
  },
  {
   "cell_type": "code",
   "execution_count": 1,
   "metadata": {},
   "outputs": [
    {
     "name": "stdout",
     "output_type": "stream",
     "text": [
      "cuda:0\n"
     ]
    },
    {
     "name": "stderr",
     "output_type": "stream",
     "text": [
      "INFO:unityagents:\n",
      "'Academy' started successfully!\n",
      "Unity Academy name: Academy\n",
      "        Number of Brains: 1\n",
      "        Number of External Brains : 1\n",
      "        Lesson number : 0\n",
      "        Reset Parameters :\n",
      "\t\t\n",
      "Unity brain name: TennisBrain\n",
      "        Number of Visual Observations (per agent): 0\n",
      "        Vector Observation space type: continuous\n",
      "        Vector Observation space size (per agent): 8\n",
      "        Number of stacked Vector Observation: 3\n",
      "        Vector Action space type: continuous\n",
      "        Vector Action space size (per agent): 2\n",
      "        Vector Action descriptions: , \n"
     ]
    }
   ],
   "source": [
    "from unityagents import UnityEnvironment\n",
    "import numpy as np\n",
    "\n",
    "from collections import deque\n",
    "import random\n",
    "import torch\n",
    "from MemoryBuffer import ReplayBuffer\n",
    "import gym\n",
    "\n",
    "from competeAgent import Agent\n",
    "\n",
    "import matplotlib.pyplot as plt\n",
    "env = UnityEnvironment(file_name=\"Tennis_Windows_x86_64/Tennis.exe\")"
   ]
  },
  {
   "cell_type": "markdown",
   "metadata": {},
   "source": [
    "Environments contain **_brains_** which are responsible for deciding the actions of their associated agents. Here we check for the first brain available, and set it as the default brain we will be controlling from Python."
   ]
  },
  {
   "cell_type": "code",
   "execution_count": 2,
   "metadata": {},
   "outputs": [
    {
     "name": "stdout",
     "output_type": "stream",
     "text": [
      "TennisBrain\n"
     ]
    }
   ],
   "source": [
    "# get the default brain\n",
    "brain_name = env.brain_names[0]\n",
    "brain = env.brains[brain_name]\n",
    "print(brain_name)"
   ]
  },
  {
   "cell_type": "markdown",
   "metadata": {},
   "source": [
    "### 2. Examine the State and Action Spaces\n",
    "\n",
    "In this environment, two agents control rackets to bounce a ball over a net. If an agent hits the ball over the net, it receives a reward of +0.1.  If an agent lets a ball hit the ground or hits the ball out of bounds, it receives a reward of -0.01.  Thus, the goal of each agent is to keep the ball in play.\n",
    "\n",
    "The observation space consists of 8 variables corresponding to the position and velocity of the ball and racket. Two continuous actions are available, corresponding to movement toward (or away from) the net, and jumping. \n",
    "\n",
    "Run the code cell below to print some information about the environment."
   ]
  },
  {
   "cell_type": "code",
   "execution_count": 3,
   "metadata": {},
   "outputs": [
    {
     "name": "stdout",
     "output_type": "stream",
     "text": [
      "Number of agents: 2\n",
      "Size of each action: 2\n",
      "There are 2 agents. Each observes a state with length: 24\n",
      "The state for the first agent looks like: [ 0.          0.          0.          0.          0.          0.\n",
      "  0.          0.          0.          0.          0.          0.\n",
      "  0.          0.          0.          0.         -6.65278625 -1.5\n",
      " -0.          0.          6.83172083  6.         -0.          0.        ]\n"
     ]
    }
   ],
   "source": [
    "# reset the environment\n",
    "env_info = env.reset(train_mode=True)[brain_name]\n",
    "\n",
    "# number of agents \n",
    "num_agents = len(env_info.agents)\n",
    "print('Number of agents:', num_agents)\n",
    "\n",
    "# size of each action\n",
    "action_size = brain.vector_action_space_size\n",
    "print('Size of each action:', action_size)\n",
    "\n",
    "# examine the state space \n",
    "states = env_info.vector_observations\n",
    "state_size = states.shape[1]\n",
    "print('There are {} agents. Each observes a state with length: {}'.format(states.shape[0], state_size))\n",
    "print('The state for the first agent looks like:', states[0])"
   ]
  },
  {
   "cell_type": "markdown",
   "metadata": {},
   "source": [
    "### 3. Initialize the Agent\n",
    "\n",
    "Initializes the agent with a random seed of one."
   ]
  },
  {
   "cell_type": "code",
   "execution_count": 4,
   "metadata": {},
   "outputs": [
    {
     "name": "stdout",
     "output_type": "stream",
     "text": [
      "Completed block.\n"
     ]
    }
   ],
   "source": [
    "seed = 1\n",
    "agents = Agent(state_size,action_size,seed)\n",
    "print(\"Completed block.\")"
   ]
  },
  {
   "cell_type": "markdown",
   "metadata": {},
   "source": [
    "### 4. DDPG algorithm\n",
    "\n",
    "Steps through the environment, runs the agent that takes states and returns actions, then steps through. Each episode decreases epsilon which in turn decreses noise for exploration."
   ]
  },
  {
   "cell_type": "code",
   "execution_count": 5,
   "metadata": {},
   "outputs": [
    {
     "name": "stdout",
     "output_type": "stream",
     "text": [
      "completed block.\n"
     ]
    }
   ],
   "source": [
    "def ddpg(n_episodes=5000, max_t=1000, eps_start=1.0, eps_end=0.01, eps_decay=0.997):\n",
    "    \"\"\"\n",
    "        Params\n",
    "    ======\n",
    "        n_episodes (int): maximum number of training episodes\n",
    "        max_t (int): maximum number of timesteps per episode\n",
    "        eps_start (float): starting value of epsilon, for epsilon-greedy action selection\n",
    "        eps_end (float): minimum value of epsilon\n",
    "        eps_decay (float): multiplicative factor (per episode) for decreasing epsilon\n",
    "    \"\"\"\n",
    "    printEvery = 10\n",
    "    scores = np.zeros(num_agents)     \n",
    "    scoresAll = []                        #  list containing scores from each episode\n",
    "    scores_window = deque(maxlen=100)  # last 100 scores\n",
    "    scoreViewer = deque(maxlen=printEvery)\n",
    "    eps = eps_start                    # initialize epsilon\n",
    "    max_Score = -np.Inf\n",
    "    #print(\"got here 0\")\n",
    "    for i_episode in range(1, n_episodes+1):\n",
    "        env_info = env.reset(train_mode=True)[brain_name]\n",
    "        states = env_info.vector_observations\n",
    "        scores = np.zeros(num_agents,)\n",
    "        agents.reset()\n",
    "        while True:  \n",
    "            actions = agents.act(states,eps)\n",
    "            env_info = env.step(actions)[brain_name]\n",
    "\n",
    "            next_states = env_info.vector_observations   # get the next state\n",
    "            \n",
    "            rewards = env_info.rewards                   # get the reward\n",
    "            dones = env_info.local_done                 # see if episode has finished\n",
    "            agents.step(states,actions,rewards,next_states,dones)\n",
    "            states = next_states\n",
    "            scores += np.array(rewards)\n",
    "            if np.any(dones):\n",
    "                break \n",
    "        mScore = np.max(scores)\n",
    "        scores_window.append(mScore)       # save most recent score\n",
    "        scoresAll.append(mScore)              # save most recent score\n",
    "        scoreViewer.append(mScore)\n",
    "        eps = max(eps_end, eps_decay*eps) # decrease epsilon\n",
    "        if mScore > max_Score:\n",
    "            max_Score = mScore\n",
    "            torch.save(agents.actor_local.state_dict(), 'checkpoint_actor.pth')\n",
    "            torch.save(agents.critic_local.state_dict(), 'checkpoint_critic.pth')\n",
    "            \n",
    "        if i_episode%printEvery==0:\n",
    "            print('\\rEpisode {}\\tLocal Average: {:.3f}\\tLocal Max: {:.3f}\\tAverage: {:.3f}\\tMax: {:.3f}'.format(i_episode, np.mean(scoreViewer),np.max(scoreViewer),np.mean(scores_window),max_Score))\n",
    "        \n",
    "        if np.mean(scores_window)>=0.5 and i_episode >100:\n",
    "            print('\\rEpisode {}\\tScore: {:.3f}\\tAverage: {:.3f}\\tMax: {:.3f}'.format(i_episode, mScore,np.mean(scores_window),max_Score))\n",
    "            print('\\nEnvironment solved in {:d} episodes!\\tAverage Score: {:.3f}'.format(i_episode-100, np.mean(scores_window)))\n",
    "            torch.save(agents.actor_local.state_dict(), 'checkpoint_actor.pth')\n",
    "            torch.save(agents.critic_local.state_dict(), 'checkpoint_critic.pth')\n",
    "            break\n",
    "    return scoresAll\n",
    "print(\"completed block.\")"
   ]
  },
  {
   "cell_type": "markdown",
   "metadata": {},
   "source": [
    "### 5. Running Training\n",
    "\n",
    "Run the training DDPG algorithm and plot the results. The DDPG algorithm prints the results of training."
   ]
  },
  {
   "cell_type": "code",
   "execution_count": 6,
   "metadata": {},
   "outputs": [
    {
     "name": "stderr",
     "output_type": "stream",
     "text": [
      "D:\\Program Files (x86)\\Microsoft Visual Studio\\Shared\\Anaconda3_64\\envs\\drlnd\\lib\\site-packages\\torch\\nn\\functional.py:995: UserWarning: nn.functional.tanh is deprecated. Use torch.tanh instead.\n",
      "  warnings.warn(\"nn.functional.tanh is deprecated. Use torch.tanh instead.\")\n",
      "d:\\Workspace\\UdacityProjects\\deep-reinforcement-learning\\p3_collab-compet\\competeAgent.py:114: UserWarning: torch.nn.utils.clip_grad_norm is now deprecated in favor of torch.nn.utils.clip_grad_norm_.\n",
      "  torch.nn.utils.clip_grad_norm(self.critic_local.parameters(), 1)\n",
      "d:\\Workspace\\UdacityProjects\\deep-reinforcement-learning\\p3_collab-compet\\competeAgent.py:123: UserWarning: torch.nn.utils.clip_grad_norm is now deprecated in favor of torch.nn.utils.clip_grad_norm_.\n",
      "  torch.nn.utils.clip_grad_norm(self.actor_local.parameters(), 1)\n"
     ]
    },
    {
     "name": "stdout",
     "output_type": "stream",
     "text": [
      "Episode 10\tLocal Average: 0.000\tLocal Max: 0.000\tAverage: 0.000\tMax: 0.000\n",
      "Episode 20\tLocal Average: 0.000\tLocal Max: 0.000\tAverage: 0.000\tMax: 0.000\n",
      "Episode 30\tLocal Average: 0.000\tLocal Max: 0.000\tAverage: 0.000\tMax: 0.000\n",
      "Episode 40\tLocal Average: 0.010\tLocal Max: 0.100\tAverage: 0.003\tMax: 0.100\n",
      "Episode 50\tLocal Average: 0.000\tLocal Max: 0.000\tAverage: 0.002\tMax: 0.100\n",
      "Episode 60\tLocal Average: 0.000\tLocal Max: 0.000\tAverage: 0.002\tMax: 0.100\n",
      "Episode 70\tLocal Average: 0.000\tLocal Max: 0.000\tAverage: 0.001\tMax: 0.100\n",
      "Episode 80\tLocal Average: 0.000\tLocal Max: 0.000\tAverage: 0.001\tMax: 0.100\n",
      "Episode 90\tLocal Average: 0.019\tLocal Max: 0.100\tAverage: 0.003\tMax: 0.100\n",
      "Episode 100\tLocal Average: 0.000\tLocal Max: 0.000\tAverage: 0.003\tMax: 0.100\n",
      "Episode 110\tLocal Average: 0.038\tLocal Max: 0.100\tAverage: 0.007\tMax: 0.100\n",
      "Episode 120\tLocal Average: 0.029\tLocal Max: 0.100\tAverage: 0.010\tMax: 0.100\n",
      "Episode 130\tLocal Average: 0.020\tLocal Max: 0.100\tAverage: 0.012\tMax: 0.100\n",
      "Episode 140\tLocal Average: 0.029\tLocal Max: 0.100\tAverage: 0.014\tMax: 0.100\n",
      "Episode 150\tLocal Average: 0.020\tLocal Max: 0.100\tAverage: 0.016\tMax: 0.100\n",
      "Episode 160\tLocal Average: 0.050\tLocal Max: 0.200\tAverage: 0.021\tMax: 0.200\n",
      "Episode 170\tLocal Average: 0.098\tLocal Max: 0.300\tAverage: 0.030\tMax: 0.300\n",
      "Episode 180\tLocal Average: 0.029\tLocal Max: 0.100\tAverage: 0.033\tMax: 0.300\n",
      "Episode 190\tLocal Average: 0.000\tLocal Max: 0.000\tAverage: 0.031\tMax: 0.300\n",
      "Episode 200\tLocal Average: 0.000\tLocal Max: 0.000\tAverage: 0.031\tMax: 0.300\n",
      "Episode 210\tLocal Average: 0.000\tLocal Max: 0.000\tAverage: 0.028\tMax: 0.300\n",
      "Episode 220\tLocal Average: 0.000\tLocal Max: 0.000\tAverage: 0.025\tMax: 0.300\n",
      "Episode 230\tLocal Average: 0.020\tLocal Max: 0.100\tAverage: 0.025\tMax: 0.300\n",
      "Episode 240\tLocal Average: 0.000\tLocal Max: 0.000\tAverage: 0.022\tMax: 0.300\n",
      "Episode 250\tLocal Average: 0.048\tLocal Max: 0.100\tAverage: 0.025\tMax: 0.300\n",
      "Episode 260\tLocal Average: 0.057\tLocal Max: 0.100\tAverage: 0.025\tMax: 0.300\n",
      "Episode 270\tLocal Average: 0.078\tLocal Max: 0.200\tAverage: 0.023\tMax: 0.300\n",
      "Episode 280\tLocal Average: 0.069\tLocal Max: 0.100\tAverage: 0.027\tMax: 0.300\n",
      "Episode 290\tLocal Average: 0.030\tLocal Max: 0.100\tAverage: 0.030\tMax: 0.300\n",
      "Episode 300\tLocal Average: 0.048\tLocal Max: 0.100\tAverage: 0.035\tMax: 0.300\n",
      "Episode 310\tLocal Average: 0.070\tLocal Max: 0.100\tAverage: 0.042\tMax: 0.300\n",
      "Episode 320\tLocal Average: 0.070\tLocal Max: 0.100\tAverage: 0.049\tMax: 0.300\n",
      "Episode 330\tLocal Average: 0.076\tLocal Max: 0.100\tAverage: 0.055\tMax: 0.300\n",
      "Episode 340\tLocal Average: 0.090\tLocal Max: 0.100\tAverage: 0.064\tMax: 0.300\n",
      "Episode 350\tLocal Average: 0.090\tLocal Max: 0.100\tAverage: 0.068\tMax: 0.300\n",
      "Episode 360\tLocal Average: 0.120\tLocal Max: 0.200\tAverage: 0.074\tMax: 0.300\n",
      "Episode 370\tLocal Average: 0.249\tLocal Max: 0.600\tAverage: 0.091\tMax: 0.600\n",
      "Episode 380\tLocal Average: 0.369\tLocal Max: 0.700\tAverage: 0.121\tMax: 0.700\n",
      "Episode 390\tLocal Average: 0.149\tLocal Max: 0.500\tAverage: 0.133\tMax: 0.700\n",
      "Episode 400\tLocal Average: 0.278\tLocal Max: 0.900\tAverage: 0.156\tMax: 0.900\n",
      "Episode 410\tLocal Average: 0.167\tLocal Max: 0.900\tAverage: 0.166\tMax: 0.900\n",
      "Episode 420\tLocal Average: 0.279\tLocal Max: 0.800\tAverage: 0.187\tMax: 0.900\n",
      "Episode 430\tLocal Average: 0.299\tLocal Max: 0.590\tAverage: 0.209\tMax: 0.900\n",
      "Episode 440\tLocal Average: 0.388\tLocal Max: 1.700\tAverage: 0.239\tMax: 1.700\n",
      "Episode 450\tLocal Average: 0.550\tLocal Max: 1.900\tAverage: 0.285\tMax: 1.900\n",
      "Episode 460\tLocal Average: 0.548\tLocal Max: 2.600\tAverage: 0.328\tMax: 2.600\n",
      "Episode 470\tLocal Average: 0.700\tLocal Max: 2.200\tAverage: 0.373\tMax: 2.600\n",
      "Episode 480\tLocal Average: 0.850\tLocal Max: 2.500\tAverage: 0.421\tMax: 2.600\n",
      "Episode 486\tScore: 2.600\tAverage: 0.505\tMax: 2.600\n",
      "\n",
      "Environment solved in 386 episodes!\tAverage Score: 0.505\n"
     ]
    },
    {
     "data": {
      "image/png": "[encoded data removed]",
      "text/plain": [
       "<Figure size 432x288 with 1 Axes>"
      ]
     },
     "metadata": {
      "needs_background": "light"
     },
     "output_type": "display_data"
    }
   ],
   "source": [
    "myScores = ddpg()\n",
    "\n",
    "# plot the scores\n",
    "fig = plt.figure()\n",
    "ax = fig.add_subplot(111)\n",
    "plt.plot(np.arange(len(myScores)), myScores)\n",
    "plt.ylabel('Score')\n",
    "plt.xlabel('Episode #')\n",
    "plt.show()"
   ]
  },
  {
   "cell_type": "markdown",
   "metadata": {},
   "source": [
    "### 6. Close the environment."
   ]
  },
  {
   "cell_type": "code",
   "execution_count": 7,
   "metadata": {},
   "outputs": [],
   "source": [
    "env.close()"
   ]
  },
  {
   "cell_type": "code",
   "execution_count": null,
   "metadata": {},
   "outputs": [],
   "source": []
  }
 ],
 "metadata": {
  "kernelspec": {
   "display_name": "drlnd",
   "language": "python",
   "name": "drlnd"
  },
  "language_info": {
   "codemirror_mode": {
    "name": "ipython",
    "version": 3
   },
   "file_extension": ".py",
   "mimetype": "text/x-python",
   "name": "python",
   "nbconvert_exporter": "python",
   "pygments_lexer": "ipython3",
   "version": "3.6.6"
  }
 },
 "nbformat": 4,
 "nbformat_minor": 2
}
